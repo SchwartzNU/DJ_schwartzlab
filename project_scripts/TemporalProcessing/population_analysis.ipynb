{
 "cells": [
  {
   "cell_type": "code",
   "execution_count": 2,
   "id": "cf23e2d9",
   "metadata": {},
   "outputs": [],
   "source": [
    "from utilities.setup_environment import *\n",
    "from utilities.utilities import *\n",
    "from utilities.plotting import *\n",
    "from utilities.getStim import *\n",
    "pd.set_option('display.max_columns', None)\n",
    "\n",
    "import matplotlib.cm as cm\n",
    "import matplotlib.colors as mcolors\n",
    "from mpl_toolkits.axes_grid1 import make_axes_locatable\n",
    "sns.set_context(\"poster\")\n",
    "from scipy.stats import sem\n",
    "import os"
   ]
  },
  {
   "cell_type": "code",
   "execution_count": 3,
   "id": "4c616cf2",
   "metadata": {},
   "outputs": [],
   "source": [
    "## Load cell type data\n",
    "df = pd.read_csv('results/ON_alpha_PSD_Gain.csv')"
   ]
  }
 ],
 "metadata": {
  "kernelspec": {
   "display_name": "base",
   "language": "python",
   "name": "python3"
  },
  "language_info": {
   "codemirror_mode": {
    "name": "ipython",
    "version": 3
   },
   "file_extension": ".py",
   "mimetype": "text/x-python",
   "name": "python",
   "nbconvert_exporter": "python",
   "pygments_lexer": "ipython3",
   "version": "3.12.4"
  }
 },
 "nbformat": 4,
 "nbformat_minor": 5
}
